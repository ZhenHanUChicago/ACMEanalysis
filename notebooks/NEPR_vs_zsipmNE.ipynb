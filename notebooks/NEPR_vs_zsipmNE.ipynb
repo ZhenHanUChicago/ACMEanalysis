{
 "cells": [
  {
   "cell_type": "code",
   "execution_count": null,
   "id": "aca0231d",
   "metadata": {},
   "outputs": [],
   "source": [
    "import numpy as np\n",
    "import matplotlib.pyplot as plt\n",
    "import os\n",
    "import pandas as pd"
   ]
  }
 ],
 "metadata": {
  "kernelspec": {
   "display_name": "physenv",
   "language": "python",
   "name": "python3"
  },
  "language_info": {
   "name": "python",
   "version": "3.8.18"
  }
 },
 "nbformat": 4,
 "nbformat_minor": 5
}
