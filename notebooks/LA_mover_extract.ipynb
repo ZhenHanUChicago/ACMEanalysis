{
 "cells": [
  {
   "cell_type": "code",
   "execution_count": 1,
   "id": "4b0e45b3",
   "metadata": {},
   "outputs": [
    {
     "name": "stdout",
     "output_type": "stream",
     "text": [
      "Wrote 606 rows to C:\\ACMEcode\\ACMEanalysis\\notebooks\\output.csv\n"
     ]
    }
   ],
   "source": [
    "# --- CONFIG ---\n",
    "FOLDER = r\"Z:\\ACME 3 EDM Data\\0014\\header_data\"       # <- change this to your folder\n",
    "OUT_CSV = r\"C:\\ACMEcode\\ACMEanalysis\\notebooks\\output.csv\"    # <- change this to where you want the CSV\n",
    "\n",
    "# --- CODE (no edits needed below) ---\n",
    "from pathlib import Path\n",
    "import re\n",
    "import csv\n",
    "\n",
    "# Files look like: \"0014.xxxx.zzzz.txt\" and we only use those with zzzz == 0000\n",
    "NAME_RE = re.compile(r'^0014\\.([^.]+)\\.(\\d{4})\\.txt$')\n",
    "LA_RE = re.compile(r'^LA_Movers\\t([+-]?\\d+(?:\\.\\d+)?)\\s*$')\n",
    "\n",
    "folder = Path(FOLDER)\n",
    "if not folder.is_dir():\n",
    "    raise NotADirectoryError(f\"{folder} is not a directory\")\n",
    "\n",
    "# Map: xxxx -> list of candidate files (just in case there are multiples)\n",
    "by_xxxx = {}\n",
    "for p in folder.glob(\"*.txt\"):\n",
    "    m = NAME_RE.match(p.name)\n",
    "    if not m:\n",
    "        continue\n",
    "    xxxx, zzzz = m.group(1), m.group(2)\n",
    "    if zzzz != \"0000\" or int(xxxx) < 672:\n",
    "        continue\n",
    "    by_xxxx.setdefault(xxxx, []).append(p)\n",
    "\n",
    "def first_la_movers_value(path: Path):\n",
    "    # Return the first matching LA_Movers number in the file, or None if not found\n",
    "    with path.open(\"r\", encoding=\"utf-8\", errors=\"replace\") as f:\n",
    "        for line in f:\n",
    "            m = LA_RE.match(line.rstrip(\"\\n\"))\n",
    "            if m:\n",
    "                return m.group(1)\n",
    "    return None\n",
    "\n",
    "rows = []\n",
    "for xxxx, paths in sorted(by_xxxx.items(), key=lambda kv: kv[0]):\n",
    "    # If multiple matching files exist for the same xxxx, pick the lexicographically first for determinism\n",
    "    path = sorted(paths, key=lambda p: p.name)[0]\n",
    "    val = first_la_movers_value(path)\n",
    "    if val is not None:\n",
    "        rows.append((xxxx, val))\n",
    "\n",
    "# Write CSV (header: xxxx,LA_Movers)\n",
    "out = Path(OUT_CSV)\n",
    "out.parent.mkdir(parents=True, exist_ok=True)\n",
    "with out.open(\"w\", newline=\"\", encoding=\"utf-8\") as f:\n",
    "    w = csv.writer(f)\n",
    "    w.writerow([\"xxxx\", \"LA_Movers\"])\n",
    "    w.writerows(rows)\n",
    "\n",
    "print(f\"Wrote {len(rows)} rows to {out}\")\n"
   ]
  }
 ],
 "metadata": {
  "kernelspec": {
   "display_name": "physenv",
   "language": "python",
   "name": "python3"
  },
  "language_info": {
   "codemirror_mode": {
    "name": "ipython",
    "version": 3
   },
   "file_extension": ".py",
   "mimetype": "text/x-python",
   "name": "python",
   "nbconvert_exporter": "python",
   "pygments_lexer": "ipython3",
   "version": "3.8.18"
  }
 },
 "nbformat": 4,
 "nbformat_minor": 5
}
