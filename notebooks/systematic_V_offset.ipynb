{
 "cells": [
  {
   "cell_type": "code",
   "execution_count": 2,
   "id": "189f4130",
   "metadata": {},
   "outputs": [],
   "source": [
    "import pandas as pd\n",
    "from scipy.stats import linregress\n",
    "# import plt\n",
    "import matplotlib.pyplot as plt\n",
    "import numpy as np\n",
    "\n",
    "def generalized_linear_regression(X, Y, dY):\n",
    "    \"\"\"\n",
    "    Generalized (weighted) linear regression with intercept.\n",
    "\n",
    "    Model:\n",
    "        Y = beta0 + beta1 * X + eps\n",
    "        Cov(eps) = sigma^2 * D, where D = diag(dY^2)\n",
    "    \"\"\"\n",
    "\n",
    "    X = np.asarray(X)\n",
    "    Y = np.asarray(Y)\n",
    "    dY = np.asarray(dY)\n",
    "    n = len(Y)\n",
    "\n",
    "    # Design matrix with intercept\n",
    "    A = np.vstack([np.ones_like(X), X]).T  # n x 2\n",
    "\n",
    "    # D^{-1} = diag(1 / dY^2)\n",
    "    W = np.diag(1.0 / dY**2)\n",
    "\n",
    "    # beta_hat = (A^T W A)^(-1) A^T W Y\n",
    "    cov_beta = np.linalg.inv(A.T @ W @ A)\n",
    "    beta_hat = cov_beta @ (A.T @ W @ Y)\n",
    "    beta0, beta1 = beta_hat\n",
    "\n",
    "    # residuals\n",
    "    residuals = Y - A @ beta_hat\n",
    "\n",
    "    # sigma^2_hat\n",
    "    p = 2\n",
    "    sigma2_hat = (residuals.T @ W @ residuals) / (n - p)\n",
    "\n",
    "    # standard errors\n",
    "    sde = np.sqrt(np.diag(cov_beta) * sigma2_hat)\n",
    "    sde_beta0, sde_beta1 = sde\n",
    "\n",
    "    # R^2 (weighted)\n",
    "    Y_mean = np.average(Y, weights=1/dY**2)\n",
    "    ss_tot = np.sum(((Y - Y_mean)**2) / dY**2)\n",
    "    ss_res = np.sum((residuals**2) / dY**2)\n",
    "    R2 = 1 - ss_res / ss_tot\n",
    "\n",
    "    # Reduced chi^2\n",
    "    chi2_red = ss_res / (n - p)\n",
    "\n",
    "    # plotting\n",
    "    plt.figure()\n",
    "    plt.errorbar(X, Y, yerr=dY, fmt='o', label='data')\n",
    "    xfit = np.linspace(np.min(X), np.max(X), 200)\n",
    "    yfit = beta0 + beta1 * xfit\n",
    "    plt.plot(xfit, yfit, 'r-', label='fit')\n",
    "    plt.xlabel('X')\n",
    "    plt.ylabel('Y')\n",
    "    plt.legend()\n",
    "    plt.title('Weighted Linear Fit')\n",
    "    plt.show()\n",
    "\n",
    "    # Prediction function with uncertainty\n",
    "    def predict(x_new):\n",
    "        x_new = np.asarray(x_new)\n",
    "        A_new = np.vstack([np.ones_like(x_new), x_new]).T\n",
    "        y_pred = A_new @ beta_hat\n",
    "        # prediction variance = sigma^2 * A_new (A^T W A)^(-1) A_new^T\n",
    "        pred_var = sigma2_hat * np.sum(A_new @ cov_beta * A_new, axis=1)\n",
    "        pred_err = np.sqrt(pred_var)\n",
    "        return y_pred, pred_err\n",
    "\n",
    "    return {\n",
    "        \"beta0\": beta0,\n",
    "        \"beta1\": beta1,\n",
    "        \"sde_beta0\": sde_beta0,\n",
    "        \"sde_beta1\": sde_beta1,\n",
    "        \"sigma2_hat\": sigma2_hat,\n",
    "        \"R2\": R2,\n",
    "        \"chi2_red\": chi2_red,\n",
    "        \"predict\": predict\n",
    "    }"
   ]
  },
  {
   "cell_type": "code",
   "execution_count": 3,
   "id": "34b84401",
   "metadata": {},
   "outputs": [
    {
     "data": {
      "image/png": "[encoded data removed]",
      "text/plain": [
       "<Figure size 640x480 with 1 Axes>"
      ]
     },
     "metadata": {},
     "output_type": "display_data"
    }
   ],
   "source": [
    "df = pd.read_csv(r\"C:\\ACME_analysis\\multiple_results\\sequencedf_result\\0015.0752_0015.0753_0015.0754_0015.0755.csv\")\n",
    "x = df['V_offset']\n",
    "y = df['omega_NE']\n",
    "dy = df['uncertainty_omega_NE']\n",
    "res = generalized_linear_regression(x, y, dy)"
   ]
  },
  {
   "cell_type": "code",
   "execution_count": 4,
   "id": "b049fb10",
   "metadata": {},
   "outputs": [
    {
     "data": {
      "text/plain": [
       "{'beta0': -0.0007196527562116439,\n",
       " 'beta1': -4.034595009010164e-06,\n",
       " 'sde_beta0': 0.00036241565521022515,\n",
       " 'sde_beta1': 1.36818596671591e-05,\n",
       " 'sigma2_hat': 1.7916127419550736,\n",
       " 'R2': 0.006172945040689881,\n",
       " 'chi2_red': 1.7916127419550736,\n",
       " 'predict': <function __main__.generalized_linear_regression.<locals>.predict(x_new)>}"
      ]
     },
     "execution_count": 4,
     "metadata": {},
     "output_type": "execute_result"
    }
   ],
   "source": [
    "res"
   ]
  }
 ],
 "metadata": {
  "kernelspec": {
   "display_name": "physenv",
   "language": "python",
   "name": "python3"
  },
  "language_info": {
   "codemirror_mode": {
    "name": "ipython",
    "version": 3
   },
   "file_extension": ".py",
   "mimetype": "text/x-python",
   "name": "python",
   "nbconvert_exporter": "python",
   "pygments_lexer": "ipython3",
   "version": "3.8.18"
  }
 },
 "nbformat": 4,
 "nbformat_minor": 5
}
