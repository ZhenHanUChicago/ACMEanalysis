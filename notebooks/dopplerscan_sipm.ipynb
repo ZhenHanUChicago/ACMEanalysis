{
 "cells": [
  {
   "cell_type": "code",
   "execution_count": 1,
   "metadata": {},
   "outputs": [],
   "source": [
    "import sys\n",
    "import os\n",
    "sys.path.append(os.path.abspath(\"..\"))\n",
    "from edmAnalyzer import *\n",
    "\n",
    "\n",
    "\n",
    "import pandas as pd\n",
    "import numpy as np\n",
    "import os\n",
    "import matplotlib.pyplot as plt\n",
    "import plotly.express as px\n",
    "from scipy.optimize import curve_fit"
   ]
  },
  {
   "cell_type": "code",
   "execution_count": null,
   "metadata": {},
   "outputs": [],
   "source": [
    "run = 10\n",
    "sequence = 1702\n",
    "offset = 31\n",
    "number_of_blocks = 20\n",
    "quantity_of_interest = \"Delta_TiSapph\"\n",
    "degeneracy = \"D\""
   ]
  },
  {
   "cell_type": "code",
   "execution_count": null,
   "metadata": {},
   "outputs": [],
   "source": [
    "\n",
    "sequence = str(sequence).zfill(4)\n",
    "run = str(run).zfill(4)\n",
    "\n",
    "folderpath = r\"C:\\ACME_analysis\\doppler\"+run+\".\"+ sequence \n",
    "list_of_target_folders = [folderpath]\n",
    "\n",
    "xx=hh.headerHandler(list_of_target_folders)\n",
    "\n",
    "\n",
    "\n",
    "df = xx[[quantity_of_interest,'N','P']]   # Change this\n",
    "\n",
    "df.to_csv(folderpath+r\"\\\\\"+r\"\\TiSapph_N_P.csv\")\n",
    "print(len(df))\n",
    "\n",
    "def touch(folder_path):\n",
    "    \"\"\"\n",
    "    Rename files in the specified folder from xxxx.xxxx.xxxx.bin to xxxx.xxxx.xxxx.0000.bin\n",
    "    \"\"\"\n",
    "    for filename in os.listdir(folder_path):\n",
    "        if filename.endswith('.bin') and len(filename) == 18 and filename.count('.') == 3:\n",
    "            # filename is of the form xxxx.xxxx.xxxx.bin\n",
    "            new_filename = filename.replace('.bin', '.0000.bin')\n",
    "            source_path = os.path.join(folder_path, filename)\n",
    "            target_path = os.path.join(folder_path, new_filename)\n",
    "\n",
    "            if not os.path.exists(target_path):\n",
    "                os.rename(source_path, target_path)\n",
    "            else:\n",
    "                print(f\"Collision detected: {target_path} already exists, skipping.\")\n",
    "\n",
    "touch(folderpath)\n",
    "bdf = pd.DataFrame()\n",
    "bdf['Polarization Switching XY Swapped'] = [0,0,0,0,0]\n",
    "NN = []\n",
    "N = []\n",
    "AA = []\n",
    "XX = []\n",
    "YY = []\n",
    "\n"
   ]
  },
  {
   "cell_type": "code",
   "execution_count": null,
   "metadata": {},
   "outputs": [],
   "source": [
    "for i in range(number_of_blocks):\n",
    "    a = binCalculator(folderpath+r\"\\\\\"+run+\".\"+sequence + \".\" + str(i).zfill(4)+r\".0000.bin\", r\"C:\\ACMEcode\\ACMEanalysis\\templates\\acmeiii\\offsettrace\\offsettrace\"+str(offset)+r\".json\", bdf)\n",
    "    a.default_pipeline()\n",
    "    NN.append(a.grouped_N_total)\n",
    "    N.append(a.grouped_N_total)\n",
    "    AA.append(a.binresult.A)\n",
    "    XX.append(a.ungrouped_Fx[:,:,:,68*20:100*20].sum(axis = (1,2,3)))\n",
    "    YY.append(a.ungrouped_Fy[:,:,:,68*20:100*20].sum(axis = (1,2,3)))\n",
    "AA = np.concatenate(AA)\n",
    "XX = np.concatenate(XX)\n",
    "YY = np.concatenate(YY)\n",
    "NN = [NN[i].sum(axis = -1) for i in range(number_of_blocks)]\n",
    "#Nratio = np.concatenate([NN[i]/NN[i].sum(axis = -2, keepdims = True) for i in range(number_of_blocks)])\n",
    "\n",
    "#Nratio = np.save(folderpath + r\"\\Nratio.npy\", Nratio)\n",
    "np.save(folderpath + r\"\\AA.npy\", AA)"
   ]
  }
 ],
 "metadata": {
  "kernelspec": {
   "display_name": "physenv",
   "language": "python",
   "name": "python3"
  },
  "language_info": {
   "codemirror_mode": {
    "name": "ipython",
    "version": 3
   },
   "file_extension": ".py",
   "mimetype": "text/x-python",
   "name": "python",
   "nbconvert_exporter": "python",
   "pygments_lexer": "ipython3",
   "version": "3.8.18"
  }
 },
 "nbformat": 4,
 "nbformat_minor": 2
}
