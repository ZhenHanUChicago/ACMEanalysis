{
 "cells": [
  {
   "cell_type": "code",
   "execution_count": 133,
   "id": "ef51ec13",
   "metadata": {},
   "outputs": [],
   "source": [
    "import pandas as pd\n",
    "import numpy as np\n",
    "import os\n",
    "\n",
    "\n",
    "\n",
    "# List of sequences\n",
    "sequences = [303,305,306,307,310,312,313, 315,316, 317]\n",
    "\n",
    "# Base path format\n",
    "base_path_fmt = r\"C:\\ACME_analysis\\Noise0011.{seq}\\Run Results\\data\\binpara_offsettrace46_bincut_frac15_blockpara_simple2_blockcut_blc1_config_0\\Sequence Results\\0_PR~DflatDeltaTiSapph\\sequencedf_0_PR~DflatDeltaTiSapph.csv\"\n",
    "\n",
    "# Load and concatenate DataFrames\n",
    "dfs = []\n",
    "for seq in sequences:\n",
    "    path = base_path_fmt.format(seq=str(seq).zfill(4))\n",
    "    df = pd.read_csv(path)\n",
    "    dfs.append(df)\n",
    "\n",
    "combined_df = pd.concat(dfs, ignore_index=True)\n",
    "\n"
   ]
  },
  {
   "cell_type": "code",
   "execution_count": 135,
   "id": "55c5e8f3",
   "metadata": {},
   "outputs": [
    {
     "name": "stdout",
     "output_type": "stream",
     "text": [
      "                            WLS Regression Results                            \n",
      "==============================================================================\n",
      "Dep. Variable:                      y   R-squared:                       0.066\n",
      "Model:                            WLS   Adj. R-squared:                  0.060\n",
      "Method:                 Least Squares   F-statistic:                     11.24\n",
      "Date:                Tue, 27 May 2025   Prob (F-statistic):            0.00100\n",
      "Time:                        11:59:58   Log-Likelihood:                 631.34\n",
      "No. Observations:                 160   AIC:                            -1259.\n",
      "Df Residuals:                     158   BIC:                            -1253.\n",
      "Df Model:                           1                                         \n",
      "Covariance Type:            nonrobust                                         \n",
      "==============================================================================\n",
      "                 coef    std err          t      P>|t|      [0.025      0.975]\n",
      "------------------------------------------------------------------------------\n",
      "const         -0.0008      0.000     -2.062      0.041      -0.001   -3.21e-05\n",
      "x1             0.0012      0.000      3.352      0.001       0.001       0.002\n",
      "==============================================================================\n",
      "Omnibus:                        2.382   Durbin-Watson:                   1.926\n",
      "Prob(Omnibus):                  0.304   Jarque-Bera (JB):                2.006\n",
      "Skew:                           0.160   Prob(JB):                        0.367\n",
      "Kurtosis:                       3.446   Cond. No.                         1.01\n",
      "==============================================================================\n",
      "\n",
      "Notes:\n",
      "[1] Standard Errors assume that the covariance matrix of the errors is correctly specified.\n"
     ]
    }
   ],
   "source": [
    "import numpy as np\n",
    "import statsmodels.api as sm\n",
    "\n",
    "# Sample data\n",
    "X = combined_df[\"Delta_TiSapph\"].to_numpy()  # Independent variables, including a constant term\n",
    "X = sm.add_constant(combined_df[\"Delta_TiSapph\"].to_numpy())\n",
    "\n",
    "y = combined_df[\"omega_NE\"].to_numpy()\n",
    "weights = 1/np.square(combined_df[\"uncertainty_omega_NE\"].to_numpy())  # Weights for each observation\n",
    "\n",
    "# WLS model\n",
    "wls_model = sm.WLS(y, X, weights=weights)\n",
    "\n",
    "# Fit the model\n",
    "results = wls_model.fit()\n",
    "\n",
    "# Print results\n",
    "print(results.summary())"
   ]
  },
  {
   "cell_type": "code",
   "execution_count": 143,
   "id": "9e77fde4",
   "metadata": {},
   "outputs": [
    {
     "data": {
      "text/plain": [
       "array([-0.00075855,  0.00123293])"
      ]
     },
     "execution_count": 143,
     "metadata": {},
     "output_type": "execute_result"
    }
   ],
   "source": [
    "results.params"
   ]
  },
  {
   "cell_type": "code",
   "execution_count": 144,
   "id": "e1388408",
   "metadata": {},
   "outputs": [
    {
     "data": {
      "text/plain": [
       "array([0.00036779, 0.00036779])"
      ]
     },
     "execution_count": 144,
     "metadata": {},
     "output_type": "execute_result"
    }
   ],
   "source": [
    "results.bse"
   ]
  },
  {
   "cell_type": "code",
   "execution_count": 142,
   "id": "5f5030fa",
   "metadata": {},
   "outputs": [],
   "source": [
    "combined_df.to_csv(r\"C:\\ACME_analysis\\DeltaTiSapphScan303.csv\", index=False)"
   ]
  },
  {
   "cell_type": "code",
   "execution_count": 111,
   "id": "8bbfff10",
   "metadata": {},
   "outputs": [
    {
     "data": {
      "text/plain": [
       "-0.001920102813344"
      ]
     },
     "execution_count": 111,
     "metadata": {},
     "output_type": "execute_result"
    }
   ],
   "source": [
    "combined_df[combined_df['Delta_TiSapph'] == -1]['omega_NE'].mean()"
   ]
  },
  {
   "cell_type": "code",
   "execution_count": 112,
   "id": "da03729b",
   "metadata": {},
   "outputs": [
    {
     "data": {
      "text/plain": [
       "0.00014364697153972507"
      ]
     },
     "execution_count": 112,
     "metadata": {},
     "output_type": "execute_result"
    }
   ],
   "source": [
    "combined_df[combined_df['Delta_TiSapph'] == 1]['omega_NE'].mean()"
   ]
  },
  {
   "cell_type": "code",
   "execution_count": 113,
   "id": "2dc37a46",
   "metadata": {},
   "outputs": [
    {
     "data": {
      "text/plain": [
       "0.0005923351436220423"
      ]
     },
     "execution_count": 113,
     "metadata": {},
     "output_type": "execute_result"
    }
   ],
   "source": [
    "combined_df[combined_df['Delta_TiSapph'] == 1]['omega_NE'].std()/np.sqrt(56)"
   ]
  },
  {
   "cell_type": "code",
   "execution_count": null,
   "id": "173ebfbc",
   "metadata": {},
   "outputs": [],
   "source": []
  }
 ],
 "metadata": {
  "kernelspec": {
   "display_name": "physenv",
   "language": "python",
   "name": "python3"
  },
  "language_info": {
   "codemirror_mode": {
    "name": "ipython",
    "version": 3
   },
   "file_extension": ".py",
   "mimetype": "text/x-python",
   "name": "python",
   "nbconvert_exporter": "python",
   "pygments_lexer": "ipython3",
   "version": "3.8.18"
  }
 },
 "nbformat": 4,
 "nbformat_minor": 5
}
