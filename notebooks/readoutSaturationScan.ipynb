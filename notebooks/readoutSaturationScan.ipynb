{
 "cells": [
  {
   "cell_type": "code",
   "execution_count": 1,
   "id": "1be8936e",
   "metadata": {},
   "outputs": [],
   "source": [
    "import sys\n",
    "import os\n",
    "sys.path.append(os.path.abspath(\"..\"))\n",
    "from edmAnalyzer import *\n",
    "\n",
    "\n",
    "\n",
    "import pandas as pd\n",
    "import numpy as np\n",
    "import os\n",
    "import matplotlib.pyplot as plt\n",
    "import plotly.express as px\n",
    "from scipy.optimize import curve_fit"
   ]
  },
  {
   "cell_type": "code",
   "execution_count": null,
   "id": "c0f5fc97",
   "metadata": {},
   "outputs": [],
   "source": [
    "run = 10\n",
    "sequence = 2312\n",
    "offset = 21\n",
    "number_of_blocks = 8\n",
    "quantity_of_interest = 'Probe_Y_Drive'\n",
    "quantity = 'N'"
   ]
  },
  {
   "cell_type": "code",
   "execution_count": 32,
   "id": "38f36b3e",
   "metadata": {},
   "outputs": [
    {
     "name": "stdout",
     "output_type": "stream",
     "text": [
      "256\n"
     ]
    }
   ],
   "source": [
    "sequence = str(sequence).zfill(4)\n",
    "run = str(run).zfill(4)\n",
    "\n",
    "folderpath = r\"C:\\ACME_analysis\\saturation\"+run+\".\"+ sequence \n",
    "list_of_target_folders = [folderpath]\n",
    "\n",
    "xx=hh.headerHandler(list_of_target_folders)\n",
    "\n",
    "\n",
    "\n",
    "df = xx[[quantity_of_interest]]   # Change this\n",
    "\n",
    "df.to_csv(folderpath+r\"\\\\\"+r\"\\TiSapph_N_P.csv\")\n",
    "print(len(df))\n",
    "\n",
    "def touch(folder_path):\n",
    "    \"\"\"\n",
    "    Rename files in the specified folder from xxxx.xxxx.xxxx.bin to xxxx.xxxx.xxxx.0000.bin\n",
    "    \"\"\"\n",
    "    for filename in os.listdir(folder_path):\n",
    "        if filename.endswith('.bin') and len(filename) == 18 and filename.count('.') == 3:\n",
    "            # filename is of the form xxxx.xxxx.xxxx.bin\n",
    "            new_filename = filename.replace('.bin', '.0000.bin')\n",
    "            source_path = os.path.join(folder_path, filename)\n",
    "            target_path = os.path.join(folder_path, new_filename)\n",
    "\n",
    "            if not os.path.exists(target_path):\n",
    "                os.rename(source_path, target_path)\n",
    "            else:\n",
    "                print(f\"Collision detected: {target_path} already exists, skipping.\")\n",
    "\n",
    "touch(folderpath)\n",
    "bdf = pd.DataFrame()\n",
    "bdf['Polarization Switching XY Swapped'] = [0,0,0,0,0]\n",
    "NN = []\n",
    "N = []\n",
    "AA = []\n",
    "XX = []\n",
    "YY = []\n",
    "\n",
    "for i in range(number_of_blocks):\n",
    "    a = binCalculator(folderpath+r\"\\\\\"+run+\".\"+sequence + \".\" + str(i).zfill(4)+r\".0000.bin\", r\"C:\\ACMEcode\\ACMEanalysis\\templates\\acmeiii\\offsettrace\\offsettrace\"+str(offset)+r\".json\", bdf)\n",
    "    a.default_pipeline()\n",
    "    NN.append(a.grouped_N_total)\n",
    "    N.append(a.grouped_N_total)\n",
    "    AA.append(a.binresult.A)\n",
    "    XX.append(a.ungrouped_Fx[:,:,:,:].sum(axis = (1,2,3)))\n",
    "    YY.append(a.ungrouped_Fy[:,:,:,:].sum(axis = (1,2,3)))\n",
    "AA = np.concatenate(AA)\n",
    "XX = np.concatenate(XX)\n",
    "YY = np.concatenate(YY)\n",
    "NN = [NN[i].sum(axis = -1) for i in range(number_of_blocks)]\n",
    "#Nratio = np.concatenate([NN[i]/NN[i].sum(axis = -2, keepdims = True) for i in range(number_of_blocks)])\n",
    "\n",
    "#Nratio = np.save(folderpath + r\"\\Nratio.npy\", Nratio)\n",
    "np.save(folderpath + r\"\\AA.npy\", AA)"
   ]
  },
  {
   "cell_type": "code",
   "execution_count": 33,
   "id": "f2dcd12d",
   "metadata": {},
   "outputs": [
    {
     "name": "stderr",
     "output_type": "stream",
     "text": [
      "C:\\Users\\ACME\\AppData\\Local\\Temp\\ipykernel_25788\\2412651200.py:1: SettingWithCopyWarning: \n",
      "A value is trying to be set on a copy of a slice from a DataFrame.\n",
      "Try using .loc[row_indexer,col_indexer] = value instead\n",
      "\n",
      "See the caveats in the documentation: https://pandas.pydata.org/pandas-docs/stable/user_guide/indexing.html#returning-a-view-versus-a-copy\n",
      "  df['YY'] = YY\n"
     ]
    }
   ],
   "source": [
    "df['YY'] = YY"
   ]
  },
  {
   "cell_type": "code",
   "execution_count": 34,
   "id": "1f4919b7",
   "metadata": {},
   "outputs": [
    {
     "data": {
      "text/html": [
       "<div>\n",
       "<style scoped>\n",
       "    .dataframe tbody tr th:only-of-type {\n",
       "        vertical-align: middle;\n",
       "    }\n",
       "\n",
       "    .dataframe tbody tr th {\n",
       "        vertical-align: top;\n",
       "    }\n",
       "\n",
       "    .dataframe thead th {\n",
       "        text-align: right;\n",
       "    }\n",
       "</style>\n",
       "<table border=\"1\" class=\"dataframe\">\n",
       "  <thead>\n",
       "    <tr style=\"text-align: right;\">\n",
       "      <th></th>\n",
       "      <th>Probe_Y_Drive</th>\n",
       "      <th>YY</th>\n",
       "    </tr>\n",
       "  </thead>\n",
       "  <tbody>\n",
       "    <tr>\n",
       "      <th>0</th>\n",
       "      <td>0.270903</td>\n",
       "      <td>1.653819e+07</td>\n",
       "    </tr>\n",
       "    <tr>\n",
       "      <th>1</th>\n",
       "      <td>0.144774</td>\n",
       "      <td>1.468520e+07</td>\n",
       "    </tr>\n",
       "    <tr>\n",
       "      <th>2</th>\n",
       "      <td>0.218968</td>\n",
       "      <td>1.653986e+07</td>\n",
       "    </tr>\n",
       "    <tr>\n",
       "      <th>3</th>\n",
       "      <td>0.174452</td>\n",
       "      <td>1.591263e+07</td>\n",
       "    </tr>\n",
       "    <tr>\n",
       "      <th>4</th>\n",
       "      <td>0.152194</td>\n",
       "      <td>1.526494e+07</td>\n",
       "    </tr>\n",
       "    <tr>\n",
       "      <th>...</th>\n",
       "      <td>...</td>\n",
       "      <td>...</td>\n",
       "    </tr>\n",
       "    <tr>\n",
       "      <th>251</th>\n",
       "      <td>0.196710</td>\n",
       "      <td>8.847663e+06</td>\n",
       "    </tr>\n",
       "    <tr>\n",
       "      <th>252</th>\n",
       "      <td>0.152194</td>\n",
       "      <td>8.460061e+06</td>\n",
       "    </tr>\n",
       "    <tr>\n",
       "      <th>253</th>\n",
       "      <td>0.122516</td>\n",
       "      <td>7.323275e+06</td>\n",
       "    </tr>\n",
       "    <tr>\n",
       "      <th>254</th>\n",
       "      <td>0.218968</td>\n",
       "      <td>9.113640e+06</td>\n",
       "    </tr>\n",
       "    <tr>\n",
       "      <th>255</th>\n",
       "      <td>0.226387</td>\n",
       "      <td>9.299260e+06</td>\n",
       "    </tr>\n",
       "  </tbody>\n",
       "</table>\n",
       "<p>256 rows × 2 columns</p>\n",
       "</div>"
      ],
      "text/plain": [
       "     Probe_Y_Drive            YY\n",
       "0         0.270903  1.653819e+07\n",
       "1         0.144774  1.468520e+07\n",
       "2         0.218968  1.653986e+07\n",
       "3         0.174452  1.591263e+07\n",
       "4         0.152194  1.526494e+07\n",
       "..             ...           ...\n",
       "251       0.196710  8.847663e+06\n",
       "252       0.152194  8.460061e+06\n",
       "253       0.122516  7.323275e+06\n",
       "254       0.218968  9.113640e+06\n",
       "255       0.226387  9.299260e+06\n",
       "\n",
       "[256 rows x 2 columns]"
      ]
     },
     "execution_count": 34,
     "metadata": {},
     "output_type": "execute_result"
    }
   ],
   "source": [
    "df"
   ]
  },
  {
   "cell_type": "code",
   "execution_count": 35,
   "id": "03f7483b",
   "metadata": {},
   "outputs": [
    {
     "data": {
      "image/png": "[encoded data removed]",
      "text/plain": [
       "<Figure size 640x480 with 1 Axes>"
      ]
     },
     "metadata": {},
     "output_type": "display_data"
    }
   ],
   "source": [
    "import pandas as pd\n",
    "import numpy as np\n",
    "import matplotlib.pyplot as plt\n",
    "\n",
    "# Group data\n",
    "grouped = df.groupby('Probe_Y_Drive')['YY'].agg(['mean', 'std', 'count']).reset_index()\n",
    "grouped['sem'] = grouped['std'] / np.sqrt(grouped['count'] - 1)\n",
    "\n",
    "# Fit 5th-order polynomial\n",
    "x = grouped['Probe_Y_Drive'].values\n",
    "y = grouped['mean'].values\n",
    "coeffs = np.polyfit(x, y, deg=3)\n",
    "poly_fit = np.poly1d(coeffs)\n",
    "\n",
    "# Generate smooth x values for plotting the polynomial\n",
    "x_fine = np.linspace(x.min(), x.max(), 500)\n",
    "y_poly = poly_fit(x_fine)\n",
    "\n",
    "# Plot\n",
    "plt.errorbar(x, y, yerr=grouped['sem'], fmt='o', capsize=5, label='Mean ± SEM')\n",
    "plt.plot(x_fine, y_poly, '-', label='5th Order Polynomial Fit')\n",
    "plt.xlabel('Probe_Y_Drive')\n",
    "plt.ylabel('Average YY')\n",
    "plt.title('YY vs Probe_Y_Drive with Polynomial Fit')\n",
    "plt.grid(True)\n",
    "plt.legend()\n",
    "plt.tight_layout()\n",
    "plt.show()\n"
   ]
  },
  {
   "cell_type": "code",
   "execution_count": null,
   "id": "b66daab9",
   "metadata": {},
   "outputs": [],
   "source": []
  }
 ],
 "metadata": {
  "kernelspec": {
   "display_name": "physenv",
   "language": "python",
   "name": "python3"
  },
  "language_info": {
   "codemirror_mode": {
    "name": "ipython",
    "version": 3
   },
   "file_extension": ".py",
   "mimetype": "text/x-python",
   "name": "python",
   "nbconvert_exporter": "python",
   "pygments_lexer": "ipython3",
   "version": "3.8.18"
  }
 },
 "nbformat": 4,
 "nbformat_minor": 5
}
