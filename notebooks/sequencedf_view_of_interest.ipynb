{
 "cells": [
  {
   "cell_type": "code",
   "execution_count": 2,
   "id": "ad57e803",
   "metadata": {},
   "outputs": [],
   "source": [
    "import pandas as pd\n",
    "from pathlib import Path\n",
    "\n",
    "def make_views(source_folder, target_folder, columns_of_interest, first_few=5):\n",
    "    source = Path(source_folder)\n",
    "    target = Path(target_folder)\n",
    "    target.mkdir(parents=True, exist_ok=True)\n",
    "\n",
    "    csv_files = list(source.glob(\"*.csv\"))  # non-recursive; change to rglob for recursive\n",
    "\n",
    "    for csv_file in csv_files:\n",
    "        try:\n",
    "            df = pd.read_csv(csv_file)\n",
    "            if isinstance(columns_of_interest, (str, int)):\n",
    "                columns_of_interest = [columns_of_interest]\n",
    "            # Determine columns of interest that exist\n",
    "            cols_existing = [c for c in columns_of_interest if c in df.columns]\n",
    "\n",
    "            # First few columns by position\n",
    "            first_cols = df.columns[:first_few].tolist()\n",
    "\n",
    "            # Combine and deduplicate\n",
    "            selected_cols = list(dict.fromkeys(cols_existing + first_cols))\n",
    "\n",
    "            # Slice safely\n",
    "            sub_df = df[selected_cols]\n",
    "\n",
    "            # Output\n",
    "            out_path = target / f\"{csv_file.stem}_viewofinterest.csv\"\n",
    "            sub_df.to_csv(out_path, index=False)\n",
    "            # print(f\"✅ {csv_file.name} -> {out_path.name}\")\n",
    "\n",
    "        except Exception as e:\n",
    "            print(f\"⚠️ Skipped {csv_file.name} due to error: {e}\")\n",
    "\n",
    "\n"
   ]
  },
  {
   "cell_type": "code",
   "execution_count": 3,
   "id": "250e3a8f",
   "metadata": {},
   "outputs": [],
   "source": [
    "# You can edit below or pass interactively\n",
    "columns_of_interest = [\"phi_N\"]\n",
    "first_few = 3\n",
    "\n",
    "source_folder = r\"C:\\ACME_analysis\\multiple_results\\sequencedf_result\"\n",
    "\n",
    "target_folder = r\"C:\\ACME_analysis\\multiple_results\\view_of_interest\"\n",
    "\n",
    "make_views(source_folder, target_folder, columns_of_interest, first_few)\n"
   ]
  },
  {
   "cell_type": "code",
   "execution_count": null,
   "id": "f5678b10",
   "metadata": {},
   "outputs": [],
   "source": []
  }
 ],
 "metadata": {
  "kernelspec": {
   "display_name": "physenv",
   "language": "python",
   "name": "python3"
  },
  "language_info": {
   "codemirror_mode": {
    "name": "ipython",
    "version": 3
   },
   "file_extension": ".py",
   "mimetype": "text/x-python",
   "name": "python",
   "nbconvert_exporter": "python",
   "pygments_lexer": "ipython3",
   "version": "3.8.18"
  }
 },
 "nbformat": 4,
 "nbformat_minor": 5
}
