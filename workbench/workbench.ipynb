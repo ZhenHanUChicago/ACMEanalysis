{
 "cells": [
  {
   "cell_type": "markdown",
   "metadata": {},
   "source": [
    "## Begin of Pipeline:"
   ]
  },
  {
   "cell_type": "code",
   "execution_count": 1,
   "metadata": {},
   "outputs": [],
   "source": [
    "import sys\n",
    "import os\n",
    "sys.path.append(os.path.abspath(\"..\"))\n",
    "from IPython.display import clear_output\n",
    "\n",
    "from edmAnalyzer import *\n",
    "\n",
    "name = \"Enrslope\"\n",
    "run = 10\n",
    "sequence = [1488]\n",
    "sequence_type = [\"PRC~DDeltaNEPrepOnly\",\"PRC~DeltaNEPrepOnly\"]"
   ]
  },
  {
   "cell_type": "markdown",
   "metadata": {},
   "source": [
    "## create"
   ]
  },
  {
   "cell_type": "code",
   "execution_count": 12,
   "metadata": {},
   "outputs": [],
   "source": [
    "a = runHandler()\n",
    "a.new_pipeline(name = name, run = run, sequence = sequence, sequence_type = sequence_type)\n",
    "clear_output(wait=False)"
   ]
  },
  {
   "cell_type": "markdown",
   "metadata": {},
   "source": [
    "## load"
   ]
  },
  {
   "cell_type": "code",
   "execution_count": 2,
   "metadata": {},
   "outputs": [],
   "source": [
    "a= runHandler()\n",
    "a.load_pipeline(name = name, run = run, sequence = sequence)\n",
    "clear_output(wait=False)"
   ]
  },
  {
   "cell_type": "markdown",
   "metadata": {},
   "source": [
    "## Calculate Binary results, Block results, and Sequence results"
   ]
  },
  {
   "cell_type": "code",
   "execution_count": 13,
   "metadata": {},
   "outputs": [],
   "source": [
    "a = runHandler()\n",
    "a.load_pipeline(name = name, run = run, sequence = sequence)\n",
    "a.calculation_pipeline(parallel = False)\n",
    "clear_output(wait=False)"
   ]
  },
  {
   "cell_type": "markdown",
   "metadata": {},
   "source": [
    "## Visualize Results:"
   ]
  },
  {
   "cell_type": "code",
   "execution_count": 3,
   "metadata": {},
   "outputs": [],
   "source": [
    "a.visualize_bin_result(only_one = True)\n",
    "clear_output(wait=False)"
   ]
  },
  {
   "cell_type": "code",
   "execution_count": 5,
   "metadata": {},
   "outputs": [],
   "source": [
    "a.visualize_block_result(only_first=1, visualizeDegenTrace = False, visualizeN = False, visualizeSipm = True, visualizeblockparity = True, visualizeF = False, visualizeenvlopphi = False)\n",
    "clear_output(wait=False)"
   ]
  },
  {
   "cell_type": "code",
   "execution_count": 14,
   "metadata": {},
   "outputs": [],
   "source": [
    "a.visualize_sequence_result(parity = True, degenerate_blocks = True, groups = False, additional_columns=['XY_power_imbalance'])\n",
    "clear_output(wait=False)"
   ]
  },
  {
   "cell_type": "markdown",
   "metadata": {},
   "source": [
    "# End of the pipeline."
   ]
  },
  {
   "cell_type": "markdown",
   "metadata": {},
   "source": []
  },
  {
   "cell_type": "markdown",
   "metadata": {},
   "source": []
  },
  {
   "cell_type": "markdown",
   "metadata": {},
   "source": []
  },
  {
   "cell_type": "markdown",
   "metadata": {},
   "source": []
  },
  {
   "cell_type": "markdown",
   "metadata": {},
   "source": []
  },
  {
   "cell_type": "markdown",
   "metadata": {},
   "source": [
    "# Bin Misalignment Check:"
   ]
  },
  {
   "cell_type": "code",
   "execution_count": null,
   "metadata": {},
   "outputs": [],
   "source": [
    "runHandler.bin_misalignment_check(r\"C:\\ACMEdata\\data0009.0133\\0009.0133.0000.0000.bin\")"
   ]
  },
  {
   "cell_type": "markdown",
   "metadata": {},
   "source": [
    "# Loop:"
   ]
  },
  {
   "cell_type": "code",
   "execution_count": null,
   "metadata": {},
   "outputs": [],
   "source": [
    "for sequences in [[183]]:\n",
    "    name = \"dBzdz\"\n",
    "    run = 10\n",
    "    sequence = sequences\n",
    "    a = runHandler()\n",
    "    a.new_pipeline(name = name, run = run, sequence = sequence)\n",
    "    a.calculation_pipeline(parallel = True)"
   ]
  },
  {
   "cell_type": "markdown",
   "metadata": {},
   "source": [
    "# For old task:"
   ]
  },
  {
   "cell_type": "code",
   "execution_count": null,
   "metadata": {},
   "outputs": [],
   "source": [
    "for sequences in [1559]:\n",
    "    name = \"preppol\"\n",
    "    run = 9\n",
    "    sequence = [sequences]\n",
    "    a = runHandler()\n",
    "    a.load_pipeline(name = name, run = run, sequence = sequence)\n",
    "    a.calculation_pipeline()"
   ]
  },
  {
   "cell_type": "code",
   "execution_count": null,
   "metadata": {},
   "outputs": [],
   "source": [
    "name = \"Noise\"\n",
    "run = 10\n",
    "sequence = [1009]\n",
    "\n",
    "a = runHandler()\n",
    "a.load_pipeline(name = name, run = run, sequence = sequence)"
   ]
  },
  {
   "cell_type": "markdown",
   "metadata": {},
   "source": [
    "# all manual"
   ]
  },
  {
   "cell_type": "code",
   "execution_count": null,
   "metadata": {},
   "outputs": [],
   "source": [
    "runHandler.bin_misalignment_check(r\"C:\\ACMEdata\\data_acmeii_225\\0225.0004.0000.0000.bin\")"
   ]
  },
  {
   "cell_type": "code",
   "execution_count": null,
   "metadata": {},
   "outputs": [],
   "source": [
    "a = runHandler()\n",
    "a.create_run_folder(run_name = \"STIRAPACMEii\")"
   ]
  },
  {
   "cell_type": "code",
   "execution_count": null,
   "metadata": {},
   "outputs": [],
   "source": [
    "a = runHandler()\n",
    "a.load_run_folder(r\"C:\\ACME_analysis\\STIRAPACMEii0236.0001\")\n",
    "a.initialize_run_folder()\n",
    "a.set_binary_data_folder_paths([r\"C:\\ACMEdata\\data_acmeii0236.0001\"])\n",
    "a.touch()\n",
    "a.load_sequence_assignment()\n",
    "a.create_aggregated_header([r\"C:\\ACMEdata\\header_acmeii0236.0001\"])"
   ]
  },
  {
   "cell_type": "code",
   "execution_count": null,
   "metadata": {},
   "outputs": [],
   "source": [
    "a = runHandler()\n",
    "a.load_run_folder(r\"C:\\ACME_analysis\\STIRAPACMEii0236.0001\")\n",
    "a.initialize_run_folder()\n",
    "a.set_binary_data_folder_paths([r\"C:\\ACMEdata\\data_acmeii0236.0001\"])\n",
    "a.touch()\n",
    "a.load_sequence_assignment()\n",
    "a.load_aggregated_header()"
   ]
  },
  {
   "cell_type": "code",
   "execution_count": null,
   "metadata": {},
   "outputs": [],
   "source": [
    "a.calculate_bin_result(parallel=True)\n",
    "a.cut_bin()\n",
    "a.calculate_block_result()\n",
    "a.cut_block()\n",
    "a.calculate_sequence_result()"
   ]
  },
  {
   "cell_type": "code",
   "execution_count": null,
   "metadata": {},
   "outputs": [],
   "source": [
    "a.visualize_bin_result(only_one=True)\n",
    "a.visualize_block_result(only_first=1)"
   ]
  },
  {
   "cell_type": "code",
   "execution_count": null,
   "metadata": {},
   "outputs": [],
   "source": [
    "runHandler.bin_misalignment_check(r\"C:\\ACMEdata\\data_acmeii\\0225.0001.0000.0000.bin\")"
   ]
  }
 ],
 "metadata": {
  "kernelspec": {
   "display_name": "physenv",
   "language": "python",
   "name": "python3"
  },
  "language_info": {
   "codemirror_mode": {
    "name": "ipython",
    "version": 3
   },
   "file_extension": ".py",
   "mimetype": "text/x-python",
   "name": "python",
   "nbconvert_exporter": "python",
   "pygments_lexer": "ipython3",
   "version": "3.8.18"
  }
 },
 "nbformat": 4,
 "nbformat_minor": 2
}
