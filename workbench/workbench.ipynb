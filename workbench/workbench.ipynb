{
 "cells": [
  {
   "cell_type": "markdown",
   "metadata": {},
   "source": [
    "## Begin of Pipeline:"
   ]
  },
  {
   "cell_type": "code",
   "execution_count": 1,
   "metadata": {},
   "outputs": [],
   "source": [
    "import sys\n",
    "import os\n",
    "sys.path.append(os.path.abspath(\"..\"))\n",
    "from IPython.display import clear_output\n",
    "\n",
    "from edmAnalyzer import *\n",
    "import winsound\n",
    "\n",
    "\n",
    "name = \"noname\"\n",
    "run = 15\n",
    "sequence = [810]\n",
    "sequence_type = [{\n",
    "    \"non_parity_switches\": [\"AOM_P+_X_V_nr\", \"AOM_P-_X_V_nr\", \"Dflat\"],\n",
    "    \"superblock_parity_switches\": [\n",
    "        \"P\",\n",
    "        \"R\"\n",
    "    ]\n",
    "}]\n",
    "\n",
    "\n",
    "binpara = {\"bin_size\": 50, \"bin_offset\": 19}"
   ]
  },
  {
   "cell_type": "markdown",
   "metadata": {},
   "source": [
    "## create"
   ]
  },
  {
   "cell_type": "code",
   "execution_count": 3,
   "metadata": {},
   "outputs": [],
   "source": [
    "a = runHandler()\n",
    "a.new_pipeline(name = name, run = run, sequence = sequence, sequence_type = sequence_type, binpara = binpara)\n",
    "clear_output(wait=False)"
   ]
  },
  {
   "cell_type": "markdown",
   "metadata": {},
   "source": [
    "## load"
   ]
  },
  {
   "cell_type": "code",
   "execution_count": 3,
   "metadata": {},
   "outputs": [],
   "source": [
    "a= runHandler()\n",
    "a.load_pipeline(name = name, run = run, sequence = sequence)\n",
    "clear_output(wait=False)"
   ]
  },
  {
   "cell_type": "markdown",
   "metadata": {},
   "source": [
    "## Calculate Binary results, Block results, and Sequence results"
   ]
  },
  {
   "cell_type": "code",
   "execution_count": 4,
   "metadata": {},
   "outputs": [],
   "source": [
    "a = runHandler()\n",
    "a.load_pipeline(name = name, run = run, sequence = sequence)\n",
    "a.calculation_pipeline(parallel = False)\n",
    "clear_output(wait=False)"
   ]
  },
  {
   "cell_type": "markdown",
   "metadata": {},
   "source": [
    "## Visualize Results:"
   ]
  },
  {
   "cell_type": "code",
   "execution_count": 12,
   "metadata": {},
   "outputs": [],
   "source": [
    "a.visualize_bin_result(only_one=False)\n",
    "clear_output(wait=False)"
   ]
  },
  {
   "cell_type": "code",
   "execution_count": null,
   "metadata": {},
   "outputs": [],
   "source": [
    "a.visualize_block_result(only_first=20, \n",
    "                         visualizeDegenTrace = False, \n",
    "                         visualizeN = False, \n",
    "                         visualizeSipm = False, \n",
    "                         visualizeblockparity = True, \n",
    "                         visualizeF = False,  \n",
    "                         visualizeenvlopphi = False)\n",
    "clear_output(wait=False)"
   ]
  },
  {
   "cell_type": "code",
   "execution_count": 4,
   "metadata": {},
   "outputs": [],
   "source": [
    "a.visualize_sequence_result(parity = False, \n",
    "                            \n",
    "                            degenerate_blocks=False, \n",
    "                            additional_columns = ['Ablation X', 'Ablation Y'], \n",
    "                            \n",
    "                            groups = False,  \n",
    "                            \n",
    "                            quantity_of_interest = ['phi', 'omega'], \n",
    "                            \n",
    "                            new1d = True,\n",
    "                            fitting = False, \n",
    "                            non_parity_sw = None, \n",
    "                            \n",
    "                            plot_2d = False, \n",
    "                            axes2d = None, \n",
    "                            baseline = 0.0)\n",
    "\n",
    "\n",
    "clear_output(wait=False)\n",
    "winsound.PlaySound('SystemExclamation', winsound.SND_ALIAS)\n",
    "winsound.PlaySound('SystemExclamation', winsound.SND_ALIAS)"
   ]
  },
  {
   "cell_type": "markdown",
   "metadata": {},
   "source": [
    "# End of the pipeline."
   ]
  },
  {
   "cell_type": "markdown",
   "metadata": {},
   "source": []
  },
  {
   "cell_type": "markdown",
   "metadata": {},
   "source": []
  },
  {
   "cell_type": "markdown",
   "metadata": {},
   "source": []
  },
  {
   "cell_type": "markdown",
   "metadata": {},
   "source": []
  },
  {
   "cell_type": "markdown",
   "metadata": {},
   "source": []
  },
  {
   "cell_type": "markdown",
   "metadata": {},
   "source": [
    "# Bin Misalignment Check:"
   ]
  },
  {
   "cell_type": "code",
   "execution_count": 16,
   "metadata": {},
   "outputs": [
    {
     "name": "stdout",
     "output_type": "stream",
     "text": [
      "File renamed to: C:\\ACME_analysis\\mis_inspect\\0014.0380.0000.0000.bin\n",
      "File name reverted to: C:\\ACME_analysis\\mis_inspect\\0014.0380.0000.bin\n"
     ]
    }
   ],
   "source": [
    "runHandler.bin_misalignment_check(r\"C:\\ACME_analysis\\mis_inspect\\0014.0380.0000.bin\")"
   ]
  },
  {
   "cell_type": "markdown",
   "metadata": {},
   "source": [
    "# Loop:"
   ]
  },
  {
   "cell_type": "code",
   "execution_count": null,
   "metadata": {},
   "outputs": [],
   "source": [
    "for sequences in [[183]]:\n",
    "    name = \"dBzdz\"\n",
    "    run = 10\n",
    "    sequence = sequences\n",
    "    a = runHandler()\n",
    "    a.new_pipeline(name = name, run = run, sequence = sequence)\n",
    "    a.calculation_pipeline(parallel = True)"
   ]
  },
  {
   "cell_type": "markdown",
   "metadata": {},
   "source": [
    "# For old task:"
   ]
  },
  {
   "cell_type": "code",
   "execution_count": null,
   "metadata": {},
   "outputs": [],
   "source": [
    "for sequences in [1559]:\n",
    "    name = \"preppol\"\n",
    "    run = 9\n",
    "    sequence = [sequences]\n",
    "    a = runHandler()\n",
    "    a.load_pipeline(name = name, run = run, sequence = sequence)\n",
    "    a.calculation_pipeline()"
   ]
  },
  {
   "cell_type": "code",
   "execution_count": null,
   "metadata": {},
   "outputs": [],
   "source": [
    "name = \"Noise\"\n",
    "run = 10\n",
    "sequence = [1009]\n",
    "\n",
    "a = runHandler()\n",
    "a.load_pipeline(name = name, run = run, sequence = sequence)"
   ]
  },
  {
   "cell_type": "markdown",
   "metadata": {},
   "source": [
    "# all manual"
   ]
  },
  {
   "cell_type": "code",
   "execution_count": null,
   "metadata": {},
   "outputs": [],
   "source": [
    "runHandler.bin_misalignment_check(r\"C:\\ACMEdata\\data_acmeii_225\\0225.0004.0000.0000.bin\")"
   ]
  },
  {
   "cell_type": "code",
   "execution_count": 72,
   "metadata": {},
   "outputs": [
    {
     "name": "stdout",
     "output_type": "stream",
     "text": [
      "Created run folder: C:\\ACME_analysis\\zsipmNE0015.0130\n"
     ]
    }
   ],
   "source": [
    "a = runHandler()\n",
    "a.create_run_folder(run_name = \"zsipmNE0015.0130\")"
   ]
  },
  {
   "cell_type": "code",
   "execution_count": null,
   "metadata": {},
   "outputs": [
    {
     "name": "stdout",
     "output_type": "stream",
     "text": [
      "Binary data folder paths set to: ['C:\\\\ACMEdata\\\\data0010.2546', 'C:\\\\ACMEdata\\\\data0010.2547', 'C:\\\\ACMEdata\\\\data0010.2548', 'C:\\\\ACMEdata\\\\data0010.2549']\n",
      "Touching files...\n",
      "0010.2546.0000.0000.bin|0010.2546.0001.0000.bin|0010.2546.0002.0000.bin|0010.2546.0003.0000.bin|0010.2546.0004.0000.bin|0010.2546.0005.0000.bin|0010.2546.0006.0000.bin|0010.2546.0007.0000.bin|0010.2546.0008.0000.bin|0010.2546.0009.0000.bin|0010.2546.0010.0000.bin|0010.2546.0011.0000.bin|0010.2546.0012.0000.bin|0010.2546.0013.0000.bin|0010.2546.0014.0000.bin|0010.2546.0015.0000.bin|0010.2546.0016.0000.bin|0010.2546.0017.0000.bin|0010.2546.0018.0000.bin|0010.2546.0019.0000.bin|0010.2546.0020.0000.bin|0010.2546.0021.0000.bin|0010.2546.0022.0000.bin|0010.2546.0023.0000.bin|0010.2546.0024.0000.bin|0010.2546.0025.0000.bin|0010.2546.0026.0000.bin|0010.2546.0027.0000.bin|0010.2546.0028.0000.bin|0010.2546.0029.0000.bin|0010.2546.0030.0000.bin|0010.2546.0031.0000.bin|0010.2547.0000.0000.bin|0010.2547.0001.0000.bin|0010.2547.0002.0000.bin|0010.2547.0003.0000.bin|0010.2547.0004.0000.bin|0010.2547.0005.0000.bin|0010.2547.0006.0000.bin|0010.2547.0007.0000.bin|0010.2547.0008.0000.bin|0010.2547.0009.0000.bin|0010.2547.0010.0000.bin|0010.2547.0011.0000.bin|0010.2547.0012.0000.bin|0010.2547.0013.0000.bin|0010.2547.0014.0000.bin|0010.2547.0015.0000.bin|0010.2547.0016.0000.bin|0010.2547.0017.0000.bin|0010.2547.0018.0000.bin|0010.2547.0019.0000.bin|0010.2547.0020.0000.bin|0010.2547.0021.0000.bin|0010.2547.0022.0000.bin|0010.2547.0023.0000.bin|0010.2547.0024.0000.bin|0010.2547.0025.0000.bin|0010.2547.0026.0000.bin|0010.2547.0027.0000.bin|0010.2547.0028.0000.bin|0010.2547.0029.0000.bin|0010.2547.0030.0000.bin|0010.2547.0031.0000.bin|0010.2548.0000.0000.bin|0010.2548.0001.0000.bin|0010.2548.0002.0000.bin|0010.2548.0003.0000.bin|0010.2548.0004.0000.bin|0010.2548.0005.0000.bin|0010.2548.0006.0000.bin|0010.2548.0007.0000.bin|0010.2548.0008.0000.bin|0010.2548.0009.0000.bin|0010.2548.0010.0000.bin|0010.2548.0011.0000.bin|0010.2548.0012.0000.bin|0010.2548.0013.0000.bin|0010.2548.0014.0000.bin|0010.2548.0015.0000.bin|0010.2548.0016.0000.bin|0010.2548.0017.0000.bin|0010.2548.0018.0000.bin|0010.2548.0019.0000.bin|0010.2548.0020.0000.bin|0010.2548.0021.0000.bin|0010.2548.0022.0000.bin|0010.2548.0023.0000.bin|0010.2548.0024.0000.bin|0010.2548.0025.0000.bin|0010.2548.0026.0000.bin|0010.2548.0027.0000.bin|0010.2548.0028.0000.bin|0010.2548.0029.0000.bin|0010.2548.0030.0000.bin|0010.2548.0031.0000.bin|0010.2549.0000.0000.bin|0010.2549.0001.0000.bin|0010.2549.0002.0000.bin|0010.2549.0003.0000.bin|0010.2549.0004.0000.bin|0010.2549.0005.0000.bin|0010.2549.0006.0000.bin|0010.2549.0007.0000.bin|0010.2549.0008.0000.bin|0010.2549.0009.0000.bin|0010.2549.0010.0000.bin|0010.2549.0011.0000.bin|0010.2549.0012.0000.bin|0010.2549.0013.0000.bin|0010.2549.0014.0000.bin|0010.2549.0015.0000.bin|0010.2549.0016.0000.bin|0010.2549.0017.0000.bin|0010.2549.0018.0000.bin|0010.2549.0019.0000.bin|0010.2549.0020.0000.bin|0010.2549.0021.0000.bin|0010.2549.0022.0000.bin|0010.2549.0023.0000.bin|0010.2549.0024.0000.bin|0010.2549.0025.0000.bin|0010.2549.0026.0000.bin|0010.2549.0027.0000.bin|0010.2549.0028.0000.bin|0010.2549.0029.0000.bin|0010.2549.0030.0000.bin|0010.2549.0031.0000.bin|\n",
      "Sequence assignment loaded from: C:\\ACME_analysis\\Noise0010.2546to2549\\sequence assignment.json\n",
      "Aggregated header saved at: C:\\ACME_analysis\\Noise0010.2546to2549\\aggregated header.csv\n"
     ]
    }
   ],
   "source": [
    "a = runHandler()\n",
    "a.load_run_folder(r\"C:\\ACME_analysis\\zsipmNE0015.0130\")\n",
    "a.initialize_run_folder()\n",
    "a.set_binary_data_folder_paths([r\"C:\\ACMEdata\\data0010.2546\", r\"C:\\ACMEdata\\data0010.2547\", r\"C:\\ACMEdata\\data0010.2548\", r\"C:\\ACMEdata\\data0010.2549\"])\n",
    "a.touch()\n",
    "a.load_sequence_assignment()\n",
    "a.create_aggregated_header([r\"C:\\ACMEdata\\header0010.2546\", r\"C:\\ACMEdata\\header0010.2547\", r\"C:\\ACMEdata\\header0010.2548\", r\"C:\\ACMEdata\\header0010.2549\"])"
   ]
  },
  {
   "cell_type": "code",
   "execution_count": null,
   "metadata": {},
   "outputs": [],
   "source": []
  },
  {
   "cell_type": "code",
   "execution_count": null,
   "metadata": {},
   "outputs": [],
   "source": [
    "a = runHandler()\n",
    "a.load_run_folder(r\"C:\\ACME_analysis\\STIRAPACMEii0236.0001\")\n",
    "a.initialize_run_folder()\n",
    "a.set_binary_data_folder_paths([r\"C:\\ACMEdata\\data_acmeii0236.0001\"])\n",
    "a.touch()\n",
    "a.load_sequence_assignment()\n",
    "a.load_aggregated_header()"
   ]
  },
  {
   "cell_type": "code",
   "execution_count": 134,
   "metadata": {},
   "outputs": [
    {
     "name": "stdout",
     "output_type": "stream",
     "text": [
      "Calculating bin result...\n",
      "Calculating block result...\n"
     ]
    },
    {
     "name": "stderr",
     "output_type": "stream",
     "text": [
      "100%|██████████| 128/128 [00:17<00:00,  7.20it/s]\n"
     ]
    },
    {
     "name": "stdout",
     "output_type": "stream",
     "text": [
      "Block cutter: Found 128 blockresult files in C:\\ACME_analysis\\Noise0010.2546to2549\\Run Results\\data\\binpara_offsettrace46_bincut_frac15_blockpara_simple2_blockcut_blc1_config_0\\Block Results\n",
      "Calculating sequence result for sequence group 0, type PR~D\n",
      "Calculating sequence result for sequence group 1, type PR\n"
     ]
    }
   ],
   "source": [
    "a.calculate_bin_result(parallel=True)\n",
    "a.cut_bin()\n",
    "a.calculate_block_result()\n",
    "a.cut_block()\n",
    "a.calculate_sequence_result()"
   ]
  },
  {
   "cell_type": "code",
   "execution_count": null,
   "metadata": {},
   "outputs": [],
   "source": [
    "a.visualize_sequence_result(parity = True, degenerate_blocks = True, groups = False, additional_columns = ['Ablation X', 'Ablation Y'])\n",
    "clear_output(wait=False)"
   ]
  },
  {
   "cell_type": "code",
   "execution_count": null,
   "metadata": {},
   "outputs": [],
   "source": [
    "a.visualize_bin_result(only_one=True)\n",
    "a.visualize_block_result(only_first=1)"
   ]
  },
  {
   "cell_type": "code",
   "execution_count": 27,
   "metadata": {},
   "outputs": [
    {
     "name": "stdout",
     "output_type": "stream",
     "text": [
      "File renamed to: Z:\\ACME 3 EDM Data\\0015\\all_detectors\\0015.0806.0011.0000.bin\n",
      "File name reverted to: Z:\\ACME 3 EDM Data\\0015\\all_detectors\\0015.0806.0011.bin\n"
     ]
    }
   ],
   "source": [
    "runHandler.bin_misalignment_check(r\"Z:\\ACME 3 EDM Data\\0015\\all_detectors\\0015.0806.0011.bin\")"
   ]
  },
  {
   "cell_type": "code",
   "execution_count": null,
   "metadata": {},
   "outputs": [],
   "source": []
  }
 ],
 "metadata": {
  "kernelspec": {
   "display_name": "physenv",
   "language": "python",
   "name": "python3"
  },
  "language_info": {
   "codemirror_mode": {
    "name": "ipython",
    "version": 3
   },
   "file_extension": ".py",
   "mimetype": "text/x-python",
   "name": "python",
   "nbconvert_exporter": "python",
   "pygments_lexer": "ipython3",
   "version": "3.8.18"
  }
 },
 "nbformat": 4,
 "nbformat_minor": 2
}
