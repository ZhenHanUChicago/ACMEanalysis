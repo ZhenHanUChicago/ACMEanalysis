{
 "cells": [
  {
   "cell_type": "code",
   "execution_count": 1,
   "id": "6ccad166",
   "metadata": {},
   "outputs": [],
   "source": [
    "import sys\n",
    "import os\n",
    "sys.path.append(os.path.abspath(\"..\"))\n",
    "from IPython.display import clear_output\n",
    "\n",
    "from edmAnalyzer import *\n",
    "import winsound\n",
    "\n",
    "def dowork(name, run, sequence, sequence_type, binpara):\n",
    "    try:\n",
    "        a = runHandler()\n",
    "        a.new_pipeline(name = name, run = run, sequence = sequence, sequence_type = sequence_type, binpara = binpara)\n",
    "        #clear_output(wait=False)\n",
    "\n",
    "        a = runHandler()\n",
    "        a.load_pipeline(name = name, run = run, sequence = sequence)\n",
    "        #clear_output(wait=False)\n",
    "\n",
    "        a = runHandler()\n",
    "        a.load_pipeline(name = name, run = run, sequence = sequence)\n",
    "        a.calculation_pipeline(parallel = False)\n",
    "        #clear_output(wait=False)\n",
    "    except:\n",
    "        print(\"An error occurred during processing.\" + str(run).zfill(4) + \".\" + str(sequence).zfill(4))"
   ]
  },
  {
   "cell_type": "code",
   "execution_count": 2,
   "id": "4abdb1ee",
   "metadata": {},
   "outputs": [
    {
     "name": "stdout",
     "output_type": "stream",
     "text": [
      "Folder noname0015.0832 already exists. Proceeding without overwriting folder content.\n",
      "Folder noname0015.0832 set up successfully and 'sequence assignment.json' updated.\n",
      "Copying 12 files to C:\\ACMEdata\\data0015.0832...\n"
     ]
    },
    {
     "name": "stderr",
     "output_type": "stream",
     "text": [
      "Copying data files for sequence 0832: 100%|██████████| 12/12 [00:13<00:00,  1.13s/it]\n"
     ]
    },
    {
     "name": "stdout",
     "output_type": "stream",
     "text": [
      "Copying 12 files to C:\\ACMEdata\\header0015.0832...\n"
     ]
    },
    {
     "name": "stderr",
     "output_type": "stream",
     "text": [
      "Copying header files for sequence 0832: 100%|██████████| 12/12 [00:00<00:00, 66.67it/s]\n"
     ]
    },
    {
     "name": "stdout",
     "output_type": "stream",
     "text": [
      "Copying 12 files to C:\\ACMEdata\\data0015.0832...\n"
     ]
    },
    {
     "name": "stderr",
     "output_type": "stream",
     "text": [
      "Copying data files for sequence 0833: 100%|██████████| 12/12 [00:44<00:00,  3.72s/it]\n"
     ]
    },
    {
     "name": "stdout",
     "output_type": "stream",
     "text": [
      "Copying 12 files to C:\\ACMEdata\\header0015.0832...\n"
     ]
    },
    {
     "name": "stderr",
     "output_type": "stream",
     "text": [
      "Copying header files for sequence 0833: 100%|██████████| 12/12 [00:01<00:00,  9.41it/s]\n"
     ]
    },
    {
     "name": "stdout",
     "output_type": "stream",
     "text": [
      "Processing complete.\n",
      "Warning: 8 data files and 8 header files were skipped because identical files already exist.\n",
      "Sequence assignment loaded from: C:\\\\ACME_analysis\\noname0015.0832\\sequence assignment.json\n",
      "Aggregated header saved at: C:\\\\ACME_analysis\\noname0015.0832\\aggregated header.csv\n",
      "Aggregated header loaded from: C:\\\\ACME_analysis\\noname0015.0832\\aggregated header.csv\n",
      "Binary data folder paths set to: ['C:\\\\ACMEdata\\\\data0015.0832']\n",
      "Touching files...\n",
      "0015.0832.0000.0000.bin|0015.0832.0001.0000.bin|0015.0832.0002.0000.bin|0015.0832.0003.0000.bin|0015.0832.0004.0000.bin|0015.0832.0005.0000.bin|0015.0832.0006.0000.bin|0015.0832.0007.0000.bin|0015.0832.0008.bin|0015.0832.0009.bin|0015.0832.0010.bin|0015.0832.0011.bin|0015.0833.0000.bin|0015.0833.0001.bin|0015.0833.0002.bin|0015.0833.0003.bin|0015.0833.0004.bin|0015.0833.0005.bin|0015.0833.0006.bin|0015.0833.0007.bin|0015.0833.0008.bin|0015.0833.0009.bin|0015.0833.0010.bin|0015.0833.0011.bin|\n",
      "Sequence assignment loaded from: C:\\ACME_analysis\\noname0015.0832\\sequence assignment.json\n",
      "Aggregated header loaded from: C:\\ACME_analysis\\noname0015.0832\\aggregated header.csv\n",
      "Binary data folder paths set to: ['C:\\\\ACMEdata\\\\data0015.0832']\n",
      "Touching files...\n",
      "0015.0832.0000.0000.bin|0015.0832.0001.0000.bin|0015.0832.0002.0000.bin|0015.0832.0003.0000.bin|0015.0832.0004.0000.bin|0015.0832.0005.0000.bin|0015.0832.0006.0000.bin|0015.0832.0007.0000.bin|0015.0832.0008.0000.bin|0015.0832.0009.0000.bin|0015.0832.0010.0000.bin|0015.0832.0011.0000.bin|0015.0833.0000.0000.bin|0015.0833.0001.0000.bin|0015.0833.0002.0000.bin|0015.0833.0003.0000.bin|0015.0833.0004.0000.bin|0015.0833.0005.0000.bin|0015.0833.0006.0000.bin|0015.0833.0007.0000.bin|0015.0833.0008.0000.bin|0015.0833.0009.0000.bin|0015.0833.0010.0000.bin|0015.0833.0011.0000.bin|\n",
      "Sequence assignment loaded from: C:\\ACME_analysis\\noname0015.0832\\sequence assignment.json\n",
      "Aggregated header loaded from: C:\\ACME_analysis\\noname0015.0832\\aggregated header.csv\n",
      "Binary data folder paths set to: ['C:\\\\ACMEdata\\\\data0015.0832']\n",
      "Touching files...\n",
      "0015.0832.0000.0000.bin|0015.0832.0001.0000.bin|0015.0832.0002.0000.bin|0015.0832.0003.0000.bin|0015.0832.0004.0000.bin|0015.0832.0005.0000.bin|0015.0832.0006.0000.bin|0015.0832.0007.0000.bin|0015.0832.0008.0000.bin|0015.0832.0009.0000.bin|0015.0832.0010.0000.bin|0015.0832.0011.0000.bin|0015.0833.0000.0000.bin|0015.0833.0001.0000.bin|0015.0833.0002.0000.bin|0015.0833.0003.0000.bin|0015.0833.0004.0000.bin|0015.0833.0005.0000.bin|0015.0833.0006.0000.bin|0015.0833.0007.0000.bin|0015.0833.0008.0000.bin|0015.0833.0009.0000.bin|0015.0833.0010.0000.bin|0015.0833.0011.0000.bin|\n",
      "Calculating bin result...\n"
     ]
    },
    {
     "name": "stderr",
     "output_type": "stream",
     "text": [
      "Processing binpara customizedbinpara1.json:   0%|          | 0/24 [00:00<?, ?it/s]"
     ]
    },
    {
     "name": "stdout",
     "output_type": "stream",
     "text": [
      "Skipping 0015.0832.0000.0000.bin: all outputs exist.\n",
      "Skipping 0015.0832.0001.0000.bin: all outputs exist.\n",
      "Skipping 0015.0832.0002.0000.bin: all outputs exist.\n",
      "Skipping 0015.0832.0003.0000.bin: all outputs exist.\n",
      "Skipping 0015.0832.0004.0000.bin: all outputs exist.\n",
      "Skipping 0015.0832.0005.0000.bin: all outputs exist.\n",
      "Skipping 0015.0832.0006.0000.bin: all outputs exist.\n",
      "Skipping 0015.0832.0007.0000.bin: all outputs exist.\n"
     ]
    },
    {
     "name": "stderr",
     "output_type": "stream",
     "text": [
      "Processing binpara customizedbinpara1.json: 100%|██████████| 24/24 [00:39<00:00,  1.66s/it]\n"
     ]
    },
    {
     "name": "stdout",
     "output_type": "stream",
     "text": [
      "Calculating block result...\n"
     ]
    },
    {
     "name": "stderr",
     "output_type": "stream",
     "text": [
      "100%|██████████| 24/24 [00:02<00:00,  9.40it/s]\n"
     ]
    },
    {
     "name": "stdout",
     "output_type": "stream",
     "text": [
      "Block cutter: Found 24 blockresult files in C:\\ACME_analysis\\noname0015.0832\\Run Results\\data\\binpara_customizedbinpara1_bincut_frac15_blockpara_simple2_blockcut_blc1_config_0\\Block Results\n",
      "Calculating sequence result for sequence group 0, type PR~BynrDflat\n"
     ]
    }
   ],
   "source": [
    "name = \"noname\"\n",
    "run = 15\n",
    "sequence = [832,833]\n",
    "sequence_type = [{\n",
    "    \"non_parity_switches\": [\"By_nr\",\"Dflat\"],\n",
    "    \"superblock_parity_switches\": [\n",
    "        \"P\",\n",
    "        \"R\"\n",
    "    ]\n",
    "}]\n",
    "\n",
    "binpara = {\"bin_size\": 70, \"bin_offset\": 26}\n",
    "\n",
    "dowork(name, run, sequence, sequence_type, binpara)"
   ]
  },
  {
   "cell_type": "code",
   "execution_count": null,
   "id": "b7ebf944",
   "metadata": {},
   "outputs": [],
   "source": []
  }
 ],
 "metadata": {
  "kernelspec": {
   "display_name": "physenv",
   "language": "python",
   "name": "python3"
  },
  "language_info": {
   "codemirror_mode": {
    "name": "ipython",
    "version": 3
   },
   "file_extension": ".py",
   "mimetype": "text/x-python",
   "name": "python",
   "nbconvert_exporter": "python",
   "pygments_lexer": "ipython3",
   "version": "3.8.18"
  }
 },
 "nbformat": 4,
 "nbformat_minor": 5
}
